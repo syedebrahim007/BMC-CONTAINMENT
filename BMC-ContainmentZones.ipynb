{
 "cells": [
  {
   "cell_type": "code",
   "execution_count": 330,
   "metadata": {},
   "outputs": [],
   "source": [
    "from bs4 import BeautifulSoup\n",
    "import re\n",
    "import pandas as pd"
   ]
  },
  {
   "cell_type": "code",
   "execution_count": 331,
   "metadata": {},
   "outputs": [],
   "source": [
    "with open('C://Users//LENOVO//Desktop//GEOIQ//BMC-ContainmentZones.js') as js_file:\n",
    "    soup = BeautifulSoup(js_file,'lxml')"
   ]
  },
  {
   "cell_type": "code",
   "execution_count": 332,
   "metadata": {},
   "outputs": [],
   "source": [
    "soup_list=[]\n",
    "for i in soup.findAll('script'):\n",
    "    soup_list.append(i)\n",
    "marker = soup_list[-1].text"
   ]
  },
  {
   "cell_type": "code",
   "execution_count": 333,
   "metadata": {},
   "outputs": [],
   "source": [
    "pattern = re.compile(r'var marker_.*\\s[=]\\sL[.]marker[(]\\n\\s*.*[]]')\n",
    "matches = pattern.findall(marker)"
   ]
  },
  {
   "cell_type": "code",
   "execution_count": 334,
   "metadata": {},
   "outputs": [],
   "source": [
    "matches_strip=[]\n",
    "for i in matches:\n",
    "    matches_strip.append(i.replace(\" \",\"\"))"
   ]
  },
  {
   "cell_type": "code",
   "execution_count": 335,
   "metadata": {},
   "outputs": [],
   "source": [
    "marker_id = []\n",
    "for i in matches_strip:\n",
    "    marker_id.append(i[10:42])"
   ]
  },
  {
   "cell_type": "code",
   "execution_count": 336,
   "metadata": {},
   "outputs": [],
   "source": [
    "coord=[]\n",
    "for i in s:\n",
    "    coord.append(i.split()[1])"
   ]
  },
  {
   "cell_type": "code",
   "execution_count": 337,
   "metadata": {},
   "outputs": [],
   "source": [
    "lat=[]\n",
    "long=[]\n",
    "for i in coord:\n",
    "    lat.append(i.split(',')[0][1:])\n",
    "    long.append(i.split(',')[1][:-1])"
   ]
  },
  {
   "cell_type": "code",
   "execution_count": 338,
   "metadata": {},
   "outputs": [],
   "source": [
    "Geo_data = pd.DataFrame(list(zip(marker_id, lat,long)), columns =['Marker_id', 'Latitude','Longitude'])"
   ]
  },
  {
   "cell_type": "code",
   "execution_count": 339,
   "metadata": {},
   "outputs": [
    {
     "data": {
      "text/html": [
       "<div>\n",
       "<style scoped>\n",
       "    .dataframe tbody tr th:only-of-type {\n",
       "        vertical-align: middle;\n",
       "    }\n",
       "\n",
       "    .dataframe tbody tr th {\n",
       "        vertical-align: top;\n",
       "    }\n",
       "\n",
       "    .dataframe thead th {\n",
       "        text-align: right;\n",
       "    }\n",
       "</style>\n",
       "<table border=\"1\" class=\"dataframe\">\n",
       "  <thead>\n",
       "    <tr style=\"text-align: right;\">\n",
       "      <th></th>\n",
       "      <th>Marker_id</th>\n",
       "      <th>Latitude</th>\n",
       "      <th>Longitude</th>\n",
       "    </tr>\n",
       "  </thead>\n",
       "  <tbody>\n",
       "    <tr>\n",
       "      <th>0</th>\n",
       "      <td>9795626cfd584471ab4406d756a00baf</td>\n",
       "      <td>19.041691972000024</td>\n",
       "      <td>72.85052482000003</td>\n",
       "    </tr>\n",
       "    <tr>\n",
       "      <th>1</th>\n",
       "      <td>82a31b114c0243859e73c4f5f1332554</td>\n",
       "      <td>19.047690380000063</td>\n",
       "      <td>72.85787174600006</td>\n",
       "    </tr>\n",
       "    <tr>\n",
       "      <th>2</th>\n",
       "      <td>0e93001008714f1da3c40e3317183810</td>\n",
       "      <td>19.039267403000053</td>\n",
       "      <td>72.85491353500004</td>\n",
       "    </tr>\n",
       "    <tr>\n",
       "      <th>3</th>\n",
       "      <td>a41b90c2ea4a405b8a35811cd094ea68</td>\n",
       "      <td>19.04372482200006</td>\n",
       "      <td>72.85004247900008</td>\n",
       "    </tr>\n",
       "    <tr>\n",
       "      <th>4</th>\n",
       "      <td>3e13bed860e9471d9a1323cffd3b6129</td>\n",
       "      <td>19.017987179000045</td>\n",
       "      <td>72.81980024300003</td>\n",
       "    </tr>\n",
       "    <tr>\n",
       "      <th>...</th>\n",
       "      <td>...</td>\n",
       "      <td>...</td>\n",
       "      <td>...</td>\n",
       "    </tr>\n",
       "    <tr>\n",
       "      <th>635</th>\n",
       "      <td>ba79eea37f8347ee9a3df5f885e4ffc1</td>\n",
       "      <td>19.16041</td>\n",
       "      <td>72.85515</td>\n",
       "    </tr>\n",
       "    <tr>\n",
       "      <th>636</th>\n",
       "      <td>cb08d17e9ff24c988e4514059168796d</td>\n",
       "      <td>19.18733</td>\n",
       "      <td>72.81258000000001</td>\n",
       "    </tr>\n",
       "    <tr>\n",
       "      <th>637</th>\n",
       "      <td>bfcdac2899914d219a6af40ee233939c</td>\n",
       "      <td>19.20354</td>\n",
       "      <td>72.86236</td>\n",
       "    </tr>\n",
       "    <tr>\n",
       "      <th>638</th>\n",
       "      <td>9ffe302c282f4a36a039a749f885a5ef</td>\n",
       "      <td>19.06544</td>\n",
       "      <td>72.83051</td>\n",
       "    </tr>\n",
       "    <tr>\n",
       "      <th>639</th>\n",
       "      <td>d304a679c76c4ee596d0180ba25061f0</td>\n",
       "      <td>19.09035</td>\n",
       "      <td>72.88605</td>\n",
       "    </tr>\n",
       "  </tbody>\n",
       "</table>\n",
       "<p>640 rows × 3 columns</p>\n",
       "</div>"
      ],
      "text/plain": [
       "                            Marker_id            Latitude          Longitude\n",
       "0    9795626cfd584471ab4406d756a00baf  19.041691972000024  72.85052482000003\n",
       "1    82a31b114c0243859e73c4f5f1332554  19.047690380000063  72.85787174600006\n",
       "2    0e93001008714f1da3c40e3317183810  19.039267403000053  72.85491353500004\n",
       "3    a41b90c2ea4a405b8a35811cd094ea68   19.04372482200006  72.85004247900008\n",
       "4    3e13bed860e9471d9a1323cffd3b6129  19.017987179000045  72.81980024300003\n",
       "..                                ...                 ...                ...\n",
       "635  ba79eea37f8347ee9a3df5f885e4ffc1            19.16041           72.85515\n",
       "636  cb08d17e9ff24c988e4514059168796d            19.18733  72.81258000000001\n",
       "637  bfcdac2899914d219a6af40ee233939c            19.20354           72.86236\n",
       "638  9ffe302c282f4a36a039a749f885a5ef            19.06544           72.83051\n",
       "639  d304a679c76c4ee596d0180ba25061f0            19.09035           72.88605\n",
       "\n",
       "[640 rows x 3 columns]"
      ]
     },
     "execution_count": 339,
     "metadata": {},
     "output_type": "execute_result"
    }
   ],
   "source": [
    "Geo_data"
   ]
  },
  {
   "cell_type": "code",
   "execution_count": 329,
   "metadata": {},
   "outputs": [],
   "source": [
    "Geo_data.to_csv('C://Users//LENOVO//Desktop//GEOIQ//Deliverables//BMC-ContainmentZones.csv')"
   ]
  }
 ],
 "metadata": {
  "kernelspec": {
   "display_name": "Python 3",
   "language": "python",
   "name": "python3"
  },
  "language_info": {
   "codemirror_mode": {
    "name": "ipython",
    "version": 3
   },
   "file_extension": ".py",
   "mimetype": "text/x-python",
   "name": "python",
   "nbconvert_exporter": "python",
   "pygments_lexer": "ipython3",
   "version": "3.7.6"
  }
 },
 "nbformat": 4,
 "nbformat_minor": 4
}
